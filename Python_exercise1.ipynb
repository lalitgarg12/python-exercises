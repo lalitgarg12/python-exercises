{
  "nbformat": 4,
  "nbformat_minor": 0,
  "metadata": {
    "colab": {
      "name": "Python exercise1.ipynb",
      "provenance": [],
      "collapsed_sections": [],
      "include_colab_link": true
    },
    "kernelspec": {
      "name": "python3",
      "display_name": "Python 3"
    }
  },
  "cells": [
    {
      "cell_type": "markdown",
      "metadata": {
        "id": "view-in-github",
        "colab_type": "text"
      },
      "source": [
        "<a href=\"https://colab.research.google.com/github/lalitgarg12/python-exercises/blob/master/Python_exercise1.ipynb\" target=\"_parent\"><img src=\"https://colab.research.google.com/assets/colab-badge.svg\" alt=\"Open In Colab\"/></a>"
      ]
    },
    {
      "cell_type": "markdown",
      "metadata": {
        "id": "C84BTkeSobdT",
        "colab_type": "text"
      },
      "source": [
        "1. Write a Python program to print the following string in a specific format (see the output). Go to the editor\n",
        "Sample String : \"Twinkle, twinkle, little star, How I wonder what you are! Up above the world so high, Like a diamond in the sky. Twinkle, twinkle, little star, How I wonder what you are\" Output :\n",
        "\n",
        "Twinkle, twinkle, little star,\n",
        "\t      How I wonder what you are! \n",
        "\t\t            Up above the world so high,   \t\t\n",
        "\t\t            Like a diamond in the sky. \n",
        "Twinkle, twinkle, little star, \n",
        "\t      How I wonder what you are\n",
        "        "
      ]
    },
    {
      "cell_type": "code",
      "metadata": {
        "id": "F48k2ke_3rBA",
        "colab_type": "code",
        "colab": {
          "base_uri": "https://localhost:8080/",
          "height": 118
        },
        "outputId": "2994c46d-30f4-4180-c8f2-6bcfe488fd9c"
      },
      "source": [
        "print(\"Twinkle, twinkle, little star, \\n\\tHow I wonder what you are! \\n\\t\\tUp above the world so high, \\n\\t\\tLike a diamond in the sky. \\nTwinkle, twinkle, little star, \\n\\tHow I wonder what you are!\")\n"
      ],
      "execution_count": 1,
      "outputs": [
        {
          "output_type": "stream",
          "text": [
            "Twinkle, twinkle, little star, \n",
            "\tHow I wonder what you are! \n",
            "\t\tUp above the world so high, \n",
            "\t\tLike a diamond in the sky. \n",
            "Twinkle, twinkle, little star, \n",
            "\tHow I wonder what you are!\n"
          ],
          "name": "stdout"
        }
      ]
    },
    {
      "cell_type": "markdown",
      "metadata": {
        "id": "Ft6H1ibEpn8C",
        "colab_type": "text"
      },
      "source": [
        "2. Write a Python program to get the Python version you are using."
      ]
    },
    {
      "cell_type": "code",
      "metadata": {
        "id": "tVL12qEcqC66",
        "colab_type": "code",
        "colab": {
          "base_uri": "https://localhost:8080/",
          "height": 50
        },
        "outputId": "284e93ad-2c0f-4ddb-e831-ab7e41f55100"
      },
      "source": [
        "import sys\n",
        "print(sys.version)"
      ],
      "execution_count": 2,
      "outputs": [
        {
          "output_type": "stream",
          "text": [
            "3.6.8 (default, Oct  7 2019, 12:59:55) \n",
            "[GCC 8.3.0]\n"
          ],
          "name": "stdout"
        }
      ]
    },
    {
      "cell_type": "code",
      "metadata": {
        "id": "7FW07ES9qIwW",
        "colab_type": "code",
        "colab": {}
      },
      "source": [
        ""
      ],
      "execution_count": 0,
      "outputs": []
    }
  ]
}