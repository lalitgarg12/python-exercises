{
  "nbformat": 4,
  "nbformat_minor": 0,
  "metadata": {
    "colab": {
      "name": "Minimal Sufficient Pandas.ipynb",
      "provenance": [],
      "include_colab_link": true
    },
    "kernelspec": {
      "name": "python3",
      "display_name": "Python 3"
    }
  },
  "cells": [
    {
      "cell_type": "markdown",
      "metadata": {
        "id": "view-in-github",
        "colab_type": "text"
      },
      "source": [
        "<a href=\"https://colab.research.google.com/github/lalitgarg12/python-exercises/blob/master/Minimal_Sufficient_Pandas.ipynb\" target=\"_parent\"><img src=\"https://colab.research.google.com/assets/colab-badge.svg\" alt=\"Open In Colab\"/></a>"
      ]
    },
    {
      "cell_type": "markdown",
      "metadata": {
        "id": "c-MotrRiVzY1",
        "colab_type": "text"
      },
      "source": [
        "Minimally Sufficient Pandas"
      ]
    },
    {
      "cell_type": "code",
      "metadata": {
        "id": "FhwNEWrJ2AK8",
        "colab_type": "code",
        "colab": {}
      },
      "source": [
        "import pandas as pd\n"
      ],
      "execution_count": 0,
      "outputs": []
    },
    {
      "cell_type": "code",
      "metadata": {
        "id": "8l44hk1G8ws7",
        "colab_type": "code",
        "colab": {
          "base_uri": "https://localhost:8080/",
          "height": 284
        },
        "outputId": "c2270f4a-a8ce-46e4-ab50-b3d64d6895df"
      },
      "source": [
        "df = pd.read_csv('https://raw.githubusercontent.com/lalitgarg12/python-exercises/master/sample_data.csv',index_col=0)\n",
        "df"
      ],
      "execution_count": 8,
      "outputs": [
        {
          "output_type": "execute_result",
          "data": {
            "text/html": [
              "<div>\n",
              "<style scoped>\n",
              "    .dataframe tbody tr th:only-of-type {\n",
              "        vertical-align: middle;\n",
              "    }\n",
              "\n",
              "    .dataframe tbody tr th {\n",
              "        vertical-align: top;\n",
              "    }\n",
              "\n",
              "    .dataframe thead th {\n",
              "        text-align: right;\n",
              "    }\n",
              "</style>\n",
              "<table border=\"1\" class=\"dataframe\">\n",
              "  <thead>\n",
              "    <tr style=\"text-align: right;\">\n",
              "      <th></th>\n",
              "      <th>state</th>\n",
              "      <th>color</th>\n",
              "      <th>favorite food</th>\n",
              "      <th>age</th>\n",
              "      <th>height</th>\n",
              "      <th>score</th>\n",
              "      <th>count</th>\n",
              "    </tr>\n",
              "    <tr>\n",
              "      <th>name</th>\n",
              "      <th></th>\n",
              "      <th></th>\n",
              "      <th></th>\n",
              "      <th></th>\n",
              "      <th></th>\n",
              "      <th></th>\n",
              "      <th></th>\n",
              "    </tr>\n",
              "  </thead>\n",
              "  <tbody>\n",
              "    <tr>\n",
              "      <th>Jane</th>\n",
              "      <td>NY</td>\n",
              "      <td>blue</td>\n",
              "      <td>Steak</td>\n",
              "      <td>30</td>\n",
              "      <td>165</td>\n",
              "      <td>4.6</td>\n",
              "      <td>10</td>\n",
              "    </tr>\n",
              "    <tr>\n",
              "      <th>Niko</th>\n",
              "      <td>TX</td>\n",
              "      <td>green</td>\n",
              "      <td>Lamb</td>\n",
              "      <td>2</td>\n",
              "      <td>70</td>\n",
              "      <td>8.3</td>\n",
              "      <td>4</td>\n",
              "    </tr>\n",
              "    <tr>\n",
              "      <th>Aaron</th>\n",
              "      <td>FL</td>\n",
              "      <td>red</td>\n",
              "      <td>Mango</td>\n",
              "      <td>12</td>\n",
              "      <td>120</td>\n",
              "      <td>9.0</td>\n",
              "      <td>3</td>\n",
              "    </tr>\n",
              "    <tr>\n",
              "      <th>Penelope</th>\n",
              "      <td>AL</td>\n",
              "      <td>white</td>\n",
              "      <td>Apple</td>\n",
              "      <td>4</td>\n",
              "      <td>80</td>\n",
              "      <td>3.3</td>\n",
              "      <td>12</td>\n",
              "    </tr>\n",
              "    <tr>\n",
              "      <th>Dean</th>\n",
              "      <td>AK</td>\n",
              "      <td>gray</td>\n",
              "      <td>Cheese</td>\n",
              "      <td>32</td>\n",
              "      <td>180</td>\n",
              "      <td>1.8</td>\n",
              "      <td>8</td>\n",
              "    </tr>\n",
              "    <tr>\n",
              "      <th>Christina</th>\n",
              "      <td>TX</td>\n",
              "      <td>black</td>\n",
              "      <td>Melon</td>\n",
              "      <td>33</td>\n",
              "      <td>172</td>\n",
              "      <td>9.5</td>\n",
              "      <td>99</td>\n",
              "    </tr>\n",
              "    <tr>\n",
              "      <th>Cornelia</th>\n",
              "      <td>TX</td>\n",
              "      <td>red</td>\n",
              "      <td>Beans</td>\n",
              "      <td>69</td>\n",
              "      <td>150</td>\n",
              "      <td>2.2</td>\n",
              "      <td>44</td>\n",
              "    </tr>\n",
              "  </tbody>\n",
              "</table>\n",
              "</div>"
            ],
            "text/plain": [
              "          state  color favorite food  age  height  score  count\n",
              "name                                                           \n",
              "Jane         NY   blue         Steak   30     165    4.6     10\n",
              "Niko         TX  green          Lamb    2      70    8.3      4\n",
              "Aaron        FL    red         Mango   12     120    9.0      3\n",
              "Penelope     AL  white         Apple    4      80    3.3     12\n",
              "Dean         AK   gray        Cheese   32     180    1.8      8\n",
              "Christina    TX  black         Melon   33     172    9.5     99\n",
              "Cornelia     TX    red         Beans   69     150    2.2     44"
            ]
          },
          "metadata": {
            "tags": []
          },
          "execution_count": 8
        }
      ]
    },
    {
      "cell_type": "markdown",
      "metadata": {
        "id": "UyYRQQkcWIFl",
        "colab_type": "text"
      },
      "source": [
        "**Selection with the brackets**\n",
        "\n",
        "Placing a column name in the brackets appended to a DataFrame selects a single column of a DataFrame as a Series."
      ]
    },
    {
      "cell_type": "code",
      "metadata": {
        "id": "ORFFgA6lVx7B",
        "colab_type": "code",
        "colab": {
          "base_uri": "https://localhost:8080/",
          "height": 151
        },
        "outputId": "679f033f-463a-4f1c-ce40-745dbbe1260a"
      },
      "source": [
        "df['state']"
      ],
      "execution_count": 4,
      "outputs": [
        {
          "output_type": "execute_result",
          "data": {
            "text/plain": [
              "Jane         NY\n",
              "Niko         TX\n",
              "Aaron        FL\n",
              "Penelope     AL\n",
              "Dean         AK\n",
              "Christina    TX\n",
              "Cornelia     TX\n",
              "Name: state, dtype: object"
            ]
          },
          "metadata": {
            "tags": []
          },
          "execution_count": 4
        }
      ]
    },
    {
      "cell_type": "markdown",
      "metadata": {
        "id": "AGeDwsP1WR3N",
        "colab_type": "text"
      },
      "source": [
        "**Selection with dot notation**\n",
        "\n",
        "Alternatively, you may select a single column with dot notation. Simply, place the name of the column after the dot operator. The output is the exact same as above."
      ]
    },
    {
      "cell_type": "code",
      "metadata": {
        "id": "tdEB6FTiWYz2",
        "colab_type": "code",
        "colab": {
          "base_uri": "https://localhost:8080/",
          "height": 151
        },
        "outputId": "c5fd5bb7-8d77-4fa7-c52e-6b588518ea0d"
      },
      "source": [
        "df.state"
      ],
      "execution_count": 5,
      "outputs": [
        {
          "output_type": "execute_result",
          "data": {
            "text/plain": [
              "Jane         NY\n",
              "Niko         TX\n",
              "Aaron        FL\n",
              "Penelope     AL\n",
              "Dean         AK\n",
              "Christina    TX\n",
              "Cornelia     TX\n",
              "Name: state, dtype: object"
            ]
          },
          "metadata": {
            "tags": []
          },
          "execution_count": 5
        }
      ]
    },
    {
      "cell_type": "markdown",
      "metadata": {
        "id": "woKgGGVkWs4l",
        "colab_type": "text"
      },
      "source": [
        "**Issues with the dot notation**\n",
        "\n",
        "There are three issues with using dot notation. It doesn’t work in the following situations:\n",
        "\n",
        "- When there are spaces in the column name\n",
        "- When the column name is the same as a DataFrame method\n",
        "- When the column name is a variable"
      ]
    },
    {
      "cell_type": "code",
      "metadata": {
        "id": "0rA8_vg7Wl8x",
        "colab_type": "code",
        "colab": {
          "base_uri": "https://localhost:8080/",
          "height": 128
        },
        "outputId": "112a0b4f-3f59-4dfb-996f-13af6201fcc3"
      },
      "source": [
        "df.favorite food"
      ],
      "execution_count": 6,
      "outputs": [
        {
          "output_type": "error",
          "ename": "SyntaxError",
          "evalue": "ignored",
          "traceback": [
            "\u001b[0;36m  File \u001b[0;32m\"<ipython-input-6-d3097dad1f65>\"\u001b[0;36m, line \u001b[0;32m1\u001b[0m\n\u001b[0;31m    df.favorite food\u001b[0m\n\u001b[0m                   ^\u001b[0m\n\u001b[0;31mSyntaxError\u001b[0m\u001b[0;31m:\u001b[0m invalid syntax\n"
          ]
        }
      ]
    },
    {
      "cell_type": "markdown",
      "metadata": {
        "id": "QE1s93y3W-zN",
        "colab_type": "text"
      },
      "source": [
        "You can only use the brackets to select columns with spaces."
      ]
    },
    {
      "cell_type": "code",
      "metadata": {
        "id": "86XglT6IXA4X",
        "colab_type": "code",
        "colab": {
          "base_uri": "https://localhost:8080/",
          "height": 168
        },
        "outputId": "f9bfa80a-731b-4180-ef95-2acfae8b94f4"
      },
      "source": [
        "df['favorite food']"
      ],
      "execution_count": 9,
      "outputs": [
        {
          "output_type": "execute_result",
          "data": {
            "text/plain": [
              "name\n",
              "Jane          Steak\n",
              "Niko           Lamb\n",
              "Aaron         Mango\n",
              "Penelope      Apple\n",
              "Dean         Cheese\n",
              "Christina     Melon\n",
              "Cornelia      Beans\n",
              "Name: favorite food, dtype: object"
            ]
          },
          "metadata": {
            "tags": []
          },
          "execution_count": 9
        }
      ]
    },
    {
      "cell_type": "markdown",
      "metadata": {
        "id": "BySb-zySYe5s",
        "colab_type": "text"
      },
      "source": [
        "**The column name is the same as a DataFrame method**\n",
        "\n",
        "When a column name and a DataFrame method collide, Pandas will always reference the method and not the column name. For instance, the column namecount is a method and will be referenced when using dot notation. This actually doesn’t produce an error as Python allows you to reference methods without calling them. Let’s reference this method now."
      ]
    },
    {
      "cell_type": "code",
      "metadata": {
        "id": "HNzb-Mm5YozN",
        "colab_type": "code",
        "colab": {
          "base_uri": "https://localhost:8080/",
          "height": 168
        },
        "outputId": "876c249d-9e1b-484e-a485-430e88bb80ef"
      },
      "source": [
        "df.count"
      ],
      "execution_count": 10,
      "outputs": [
        {
          "output_type": "execute_result",
          "data": {
            "text/plain": [
              "<bound method DataFrame.count of           state  color favorite food  age  height  score  count\n",
              "name                                                           \n",
              "Jane         NY   blue         Steak   30     165    4.6     10\n",
              "Niko         TX  green          Lamb    2      70    8.3      4\n",
              "Aaron        FL    red         Mango   12     120    9.0      3\n",
              "Penelope     AL  white         Apple    4      80    3.3     12\n",
              "Dean         AK   gray        Cheese   32     180    1.8      8\n",
              "Christina    TX  black         Melon   33     172    9.5     99\n",
              "Cornelia     TX    red         Beans   69     150    2.2     44>"
            ]
          },
          "metadata": {
            "tags": []
          },
          "execution_count": 10
        }
      ]
    },
    {
      "cell_type": "markdown",
      "metadata": {
        "id": "a6PX91sDY4N0",
        "colab_type": "text"
      },
      "source": [
        "Regardless, it’s clear that using dot notation did not select a single column of the DataFrame as a Series. Again, you must use the brackets when selecting a column with the same name as a DataFrame method."
      ]
    },
    {
      "cell_type": "code",
      "metadata": {
        "id": "8mraiIMtY5To",
        "colab_type": "code",
        "colab": {
          "base_uri": "https://localhost:8080/",
          "height": 168
        },
        "outputId": "89625c54-62a7-4e0d-cc2e-8ddc67bda34f"
      },
      "source": [
        "df['count']"
      ],
      "execution_count": 11,
      "outputs": [
        {
          "output_type": "execute_result",
          "data": {
            "text/plain": [
              "name\n",
              "Jane         10\n",
              "Niko          4\n",
              "Aaron         3\n",
              "Penelope     12\n",
              "Dean          8\n",
              "Christina    99\n",
              "Cornelia     44\n",
              "Name: count, dtype: int64"
            ]
          },
          "metadata": {
            "tags": []
          },
          "execution_count": 11
        }
      ]
    },
    {
      "cell_type": "code",
      "metadata": {
        "id": "vBD5DPpfY7IJ",
        "colab_type": "code",
        "colab": {}
      },
      "source": [
        ""
      ],
      "execution_count": 0,
      "outputs": []
    }
  ]
}